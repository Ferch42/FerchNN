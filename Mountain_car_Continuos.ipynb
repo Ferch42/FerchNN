{
 "cells": [
  {
   "cell_type": "code",
   "execution_count": 1,
   "metadata": {
    "collapsed": true
   },
   "outputs": [],
   "source": [
    "import gym\n",
    "import numpy as np\n",
    "import FerchNN\n",
    "from random import sample"
   ]
  },
  {
   "cell_type": "code",
   "execution_count": 4,
   "metadata": {},
   "outputs": [
    {
     "name": "stdout",
     "output_type": "stream",
     "text": [
      "\u001b[33mWARN: gym.spaces.Box autodetected dtype as <class 'numpy.float32'>. Please provide explicit dtype.\u001b[0m\n",
      "\u001b[33mWARN: gym.spaces.Box autodetected dtype as <class 'numpy.float32'>. Please provide explicit dtype.\u001b[0m\n"
     ]
    }
   ],
   "source": [
    "env = gym.make(\"MountainCarContinuous-v0\")"
   ]
  },
  {
   "cell_type": "code",
   "execution_count": 5,
   "metadata": {
    "scrolled": true
   },
   "outputs": [
    {
     "data": {
      "text/plain": [
       "array([ 1.], dtype=float32)"
      ]
     },
     "execution_count": 5,
     "metadata": {},
     "output_type": "execute_result"
    }
   ],
   "source": [
    "env.action_space.high"
   ]
  },
  {
   "cell_type": "code",
   "execution_count": 6,
   "metadata": {},
   "outputs": [],
   "source": [
    "mean_nn = FerchNN.NN_Network(input_size = env.observation_space.shape[0], lr =0.000001, output_size = env.action_space.shape[0] ,  activation = \"linear\")\n",
    "std_nn = FerchNN.NN_Network(input_size = env.observation_space.shape[0], lr =0.000001, output_size = env.action_space.shape[0] , activation = \"linear\")"
   ]
  },
  {
   "cell_type": "code",
   "execution_count": 7,
   "metadata": {
    "collapsed": true
   },
   "outputs": [],
   "source": [
    "def choose_action(state):\n",
    "    \n",
    "    action = np.zeros(env.action_space.shape[0])\n",
    "    mean = mean_nn.predict(state)\n",
    "    std = std_nn.predict(state)\n",
    "    #std_aux= np.log(1+np.power(np.e, std))+0.00001\n",
    "    std_aux = np.power(std,2)+0.00001\n",
    "    #std_aux = np.zeros(env.action_space.shape)\n",
    "    \n",
    "    for i in range(env.action_space.shape[0]):\n",
    "        \n",
    "        action[i] = np.random.normal(mean[i], std_aux[i])\n",
    "        \n",
    "        if action[i]>= env.action_space.high[i]:\n",
    "            action[i] = env.action_space.high[i]\n",
    "        \n",
    "        if action[i]<= env.action_space.low[i]:\n",
    "            action[i] = env.action_space.low[i]\n",
    "            \n",
    "        \n",
    "    \n",
    "    #std = std_aux\n",
    "    #print(mean, std_aux)\n",
    "    return action, mean, std "
   ]
  },
  {
   "cell_type": "code",
   "execution_count": 8,
   "metadata": {
    "collapsed": true
   },
   "outputs": [],
   "source": [
    "def compute_gradient(action, reward, mean, std):\n",
    "    \n",
    "    #std_aux= np.log(1+np.power(np.e, std))+0.00001\n",
    "    std_aux = np.power(std,2)+0.00001\n",
    "    mean_gradient = -reward*((action - mean)/np.power(std_aux,2))\n",
    "    #mean_gradient = (mean_gradient)/np.linalg.norm(mean_gradient)\n",
    "     \n",
    "    #std_gradient = -reward*((np.power((action-mean), 2)-np.power(std_aux,2))/np.power(std_aux,3))*( 1/ (1+np.power(np.e,-std)))\n",
    "    std_gradient = -reward*((np.power((action-mean), 2)-np.power(std_aux,2))/np.power(std_aux,3))*2*std\n",
    "    #std_gradient = (std_gradient)/ np.linalg.norm(std_gradient)\n",
    "    \n",
    "    \n",
    "    return mean_gradient, std_gradient"
   ]
  },
  {
   "cell_type": "code",
   "execution_count": 9,
   "metadata": {
    "collapsed": true
   },
   "outputs": [],
   "source": [
    "def compute_cumulative_rewards(rewards, gamma = 0.99):\n",
    "    \n",
    "    r_aux = np.zeros(len(rewards))\n",
    "    \n",
    "    for i in range(len(rewards)):\n",
    "        discounted_rewards = 0\n",
    "        \n",
    "        for j in range(i, len(rewards)): \n",
    "            discounted_rewards = discounted_rewards + np.power(gamma, j-i)*rewards[j]\n",
    "        \n",
    "        r_aux [i] = discounted_rewards\n",
    "    \n",
    "    return r_aux"
   ]
  },
  {
   "cell_type": "code",
   "execution_count": 10,
   "metadata": {
    "collapsed": true
   },
   "outputs": [],
   "source": [
    "def reinforce(actions, means, stds, rewards):\n",
    "    \n",
    "    r = compute_cumulative_rewards(rewards)\n",
    "    \n",
    "    assert len(actions)== len(means)\n",
    "    assert len(means) == len(stds)\n",
    "    assert len(stds) == len(rewards)\n",
    "    \n",
    "    for i in range(len(actions)):\n",
    "        mean_gradient, std_gradient  = compute_gradient(actions[i], r[i], means[i], stds[i])\n",
    "        mean_nn.fit(None,None, dloss = mean_gradient)\n",
    "        std_nn.fit(None, None, dloss = std_gradient)"
   ]
  },
  {
   "cell_type": "code",
   "execution_count": null,
   "metadata": {},
   "outputs": [
    {
     "name": "stderr",
     "output_type": "stream",
     "text": [
      "D:\\Fernando\\Documents\\TCC\\continuous_action_space\\FerchNN.py:210: FutureWarning: comparison to `None` will result in an elementwise object comparison in the future.\n",
      "  if dloss != None:\n"
     ]
    },
    {
     "name": "stdout",
     "output_type": "stream",
     "text": [
      "-------------------------------\n",
      "Episode finished after 728 timesteps\n",
      "0  Reward  27.3972164576\n",
      "0  Mean  29.6388289482\n",
      "0  Std  29.7360229463\n",
      "-------------------------------\n",
      "Episode finished after 1000 timesteps\n",
      "1  Reward  -12.7709888863\n",
      "1  Mean  -0.355146836309\n",
      "1  Std  0.571770687246\n",
      "-------------------------------\n",
      "Episode finished after 1000 timesteps\n",
      "2  Reward  -13.0392206659\n",
      "2  Mean  -0.356287963795\n",
      "2  Std  0.571943455752\n",
      "-------------------------------\n",
      "Episode finished after 1000 timesteps\n",
      "3  Reward  -12.9547970635\n",
      "3  Mean  -0.35658995421\n",
      "3  Std  0.571900060076\n",
      "-------------------------------\n",
      "Episode finished after 1000 timesteps\n",
      "4  Reward  -13.4299151025\n",
      "4  Mean  -0.357535268418\n",
      "4  Std  0.572262748734\n",
      "-------------------------------\n",
      "Episode finished after 1000 timesteps\n",
      "5  Reward  -13.2166180743\n",
      "5  Mean  -0.35658258891\n",
      "5  Std  0.572391263823\n",
      "-------------------------------\n",
      "Episode finished after 1000 timesteps\n",
      "6  Reward  -13.0510593864\n",
      "6  Mean  -0.356162623723\n",
      "6  Std  0.572318332308\n",
      "-------------------------------\n",
      "Episode finished after 1000 timesteps\n",
      "7  Reward  -13.0419481543\n",
      "7  Mean  -0.356105325246\n",
      "7  Std  0.571950930763\n"
     ]
    }
   ],
   "source": [
    "n_episodes = 100000\n",
    "horizon = 1000\n",
    "for i_episode in range(n_episodes):\n",
    "    state = env.reset()\n",
    "    \n",
    "    actions = []\n",
    "    means = []\n",
    "    stds = []\n",
    "    rewards = []\n",
    "    time = 0\n",
    "    for t in range(horizon):\n",
    "        time+=1\n",
    "        env.render()\n",
    "        ########################################\n",
    "        action, mean, std = choose_action(state)\n",
    "        actions.append(action)\n",
    "        means.append(mean)\n",
    "        stds.append(std)\n",
    "        ########################################\n",
    "        next_state, reward, done, info = env.step(action)\n",
    "        rewards.append(reward)\n",
    "        \n",
    "        state = next_state\n",
    "        if done:\n",
    "            break\n",
    "    reinforce(actions, means, stds, rewards)\n",
    "    \n",
    "    print(\"-------------------------------\")\n",
    "    print(\"Episode finished after {} timesteps\".format(time+1))\n",
    "    print(i_episode, \" Reward \", np.array(rewards).sum())\n",
    "    print(i_episode, \" Mean \", np.array(means).mean())\n",
    "    print(i_episode, \" Std \", np.log(1+np.power(np.e, np.array(stds))).mean())\n",
    "    \n",
    "env.close()"
   ]
  }
 ],
 "metadata": {
  "kernelspec": {
   "display_name": "Python 3",
   "language": "python",
   "name": "python3"
  },
  "language_info": {
   "codemirror_mode": {
    "name": "ipython",
    "version": 3
   },
   "file_extension": ".py",
   "mimetype": "text/x-python",
   "name": "python",
   "nbconvert_exporter": "python",
   "pygments_lexer": "ipython3",
   "version": "3.6.0"
  }
 },
 "nbformat": 4,
 "nbformat_minor": 2
}
